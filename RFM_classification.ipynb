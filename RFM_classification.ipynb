{
 "cells": [
  {
   "cell_type": "code",
   "execution_count": 1,
   "id": "cc35d93b",
   "metadata": {},
   "outputs": [],
   "source": [
    "#importing libraries\n",
    "import pandas as pd\n",
    "import seaborn as sns\n",
    "import matplotlib.pyplot as plt\n",
    "\n",
    "#show plots in jupyter notebooks\n",
    "%matplotlib inline\n",
    "\n",
    "#set plot style\n",
    "sns.set(color_codes = True)"
   ]
  },
  {
   "cell_type": "code",
   "execution_count": 2,
   "id": "f60f6251",
   "metadata": {},
   "outputs": [],
   "source": [
    "#read the data\n",
    "sales_df = pd.read_excel(r\"C:\\Users\\ag_ma\\.jupyter\\Data\\sales_data.xlsx\")"
   ]
  },
  {
   "cell_type": "code",
   "execution_count": 3,
   "id": "076a9749",
   "metadata": {},
   "outputs": [
    {
     "data": {
      "text/html": [
       "<div>\n",
       "<style scoped>\n",
       "    .dataframe tbody tr th:only-of-type {\n",
       "        vertical-align: middle;\n",
       "    }\n",
       "\n",
       "    .dataframe tbody tr th {\n",
       "        vertical-align: top;\n",
       "    }\n",
       "\n",
       "    .dataframe thead th {\n",
       "        text-align: right;\n",
       "    }\n",
       "</style>\n",
       "<table border=\"1\" class=\"dataframe\">\n",
       "  <thead>\n",
       "    <tr style=\"text-align: right;\">\n",
       "      <th></th>\n",
       "      <th>CustomerID</th>\n",
       "      <th>TOTAL_ORDERS</th>\n",
       "      <th>REVENUE</th>\n",
       "      <th>AVERAGE_ORDER_VALUE</th>\n",
       "      <th>CARRIAGE_REVENUE</th>\n",
       "      <th>AVERAGESHIPPING</th>\n",
       "      <th>FIRST_ORDER_DATE</th>\n",
       "      <th>LATEST_ORDER_DATE</th>\n",
       "      <th>AVGDAYSBETWEENORDERS</th>\n",
       "      <th>DAYSSINCELASTORDER</th>\n",
       "      <th>...</th>\n",
       "      <th>TIME_0000_0600_ORDERS</th>\n",
       "      <th>TIME_0601_1200_ORDERS</th>\n",
       "      <th>TIME_1200_1800_ORDERS</th>\n",
       "      <th>TIME_1801_2359_ORDERS</th>\n",
       "      <th>TIME_0000_0600_REVENUE</th>\n",
       "      <th>TIME_0601_1200_REVENUE</th>\n",
       "      <th>TIME_1200_1800_REVENUE</th>\n",
       "      <th>TIME_1801_2359_REVENUE</th>\n",
       "      <th>Unnamed: 40</th>\n",
       "      <th>Unnamed: 41</th>\n",
       "    </tr>\n",
       "  </thead>\n",
       "  <tbody>\n",
       "    <tr>\n",
       "      <th>0</th>\n",
       "      <td>22</td>\n",
       "      <td>124</td>\n",
       "      <td>11986.54</td>\n",
       "      <td>96.67</td>\n",
       "      <td>529.59</td>\n",
       "      <td>4.27</td>\n",
       "      <td>2016-12-30</td>\n",
       "      <td>2021-10-24</td>\n",
       "      <td>14.19</td>\n",
       "      <td>1</td>\n",
       "      <td>...</td>\n",
       "      <td>12</td>\n",
       "      <td>61</td>\n",
       "      <td>37</td>\n",
       "      <td>14</td>\n",
       "      <td>1067.92</td>\n",
       "      <td>5674.65</td>\n",
       "      <td>3916.53</td>\n",
       "      <td>1327.44</td>\n",
       "      <td>NaN</td>\n",
       "      <td>NaN</td>\n",
       "    </tr>\n",
       "    <tr>\n",
       "      <th>1</th>\n",
       "      <td>29</td>\n",
       "      <td>82</td>\n",
       "      <td>11025.96</td>\n",
       "      <td>134.46</td>\n",
       "      <td>97.92</td>\n",
       "      <td>1.19</td>\n",
       "      <td>2018-03-31</td>\n",
       "      <td>2021-10-24</td>\n",
       "      <td>15.89</td>\n",
       "      <td>1</td>\n",
       "      <td>...</td>\n",
       "      <td>1</td>\n",
       "      <td>13</td>\n",
       "      <td>24</td>\n",
       "      <td>44</td>\n",
       "      <td>30.25</td>\n",
       "      <td>3143.69</td>\n",
       "      <td>2205.47</td>\n",
       "      <td>5646.55</td>\n",
       "      <td>NaN</td>\n",
       "      <td>33212.76</td>\n",
       "    </tr>\n",
       "    <tr>\n",
       "      <th>2</th>\n",
       "      <td>83</td>\n",
       "      <td>43</td>\n",
       "      <td>7259.69</td>\n",
       "      <td>168.83</td>\n",
       "      <td>171.69</td>\n",
       "      <td>3.99</td>\n",
       "      <td>2017-11-30</td>\n",
       "      <td>2021-10-24</td>\n",
       "      <td>33.12</td>\n",
       "      <td>1</td>\n",
       "      <td>...</td>\n",
       "      <td>0</td>\n",
       "      <td>6</td>\n",
       "      <td>12</td>\n",
       "      <td>25</td>\n",
       "      <td>0.00</td>\n",
       "      <td>707.98</td>\n",
       "      <td>2560.91</td>\n",
       "      <td>3990.80</td>\n",
       "      <td>NaN</td>\n",
       "      <td>NaN</td>\n",
       "    </tr>\n",
       "    <tr>\n",
       "      <th>3</th>\n",
       "      <td>95</td>\n",
       "      <td>44</td>\n",
       "      <td>6992.27</td>\n",
       "      <td>158.92</td>\n",
       "      <td>92.82</td>\n",
       "      <td>2.11</td>\n",
       "      <td>2019-04-09</td>\n",
       "      <td>2021-10-24</td>\n",
       "      <td>21.11</td>\n",
       "      <td>1</td>\n",
       "      <td>...</td>\n",
       "      <td>0</td>\n",
       "      <td>10</td>\n",
       "      <td>13</td>\n",
       "      <td>21</td>\n",
       "      <td>0.00</td>\n",
       "      <td>1908.99</td>\n",
       "      <td>2025.05</td>\n",
       "      <td>3058.23</td>\n",
       "      <td>NaN</td>\n",
       "      <td>NaN</td>\n",
       "    </tr>\n",
       "    <tr>\n",
       "      <th>4</th>\n",
       "      <td>124</td>\n",
       "      <td>55</td>\n",
       "      <td>6263.44</td>\n",
       "      <td>113.88</td>\n",
       "      <td>179.04</td>\n",
       "      <td>3.26</td>\n",
       "      <td>2020-10-23</td>\n",
       "      <td>2021-10-24</td>\n",
       "      <td>6.65</td>\n",
       "      <td>1</td>\n",
       "      <td>...</td>\n",
       "      <td>6</td>\n",
       "      <td>9</td>\n",
       "      <td>27</td>\n",
       "      <td>13</td>\n",
       "      <td>501.34</td>\n",
       "      <td>1197.83</td>\n",
       "      <td>3004.77</td>\n",
       "      <td>1559.50</td>\n",
       "      <td>NaN</td>\n",
       "      <td>NaN</td>\n",
       "    </tr>\n",
       "  </tbody>\n",
       "</table>\n",
       "<p>5 rows × 42 columns</p>\n",
       "</div>"
      ],
      "text/plain": [
       "   CustomerID  TOTAL_ORDERS   REVENUE  AVERAGE_ORDER_VALUE  CARRIAGE_REVENUE  \\\n",
       "0          22           124  11986.54                96.67            529.59   \n",
       "1          29            82  11025.96               134.46             97.92   \n",
       "2          83            43   7259.69               168.83            171.69   \n",
       "3          95            44   6992.27               158.92             92.82   \n",
       "4         124            55   6263.44               113.88            179.04   \n",
       "\n",
       "   AVERAGESHIPPING FIRST_ORDER_DATE LATEST_ORDER_DATE  AVGDAYSBETWEENORDERS  \\\n",
       "0             4.27       2016-12-30        2021-10-24                 14.19   \n",
       "1             1.19       2018-03-31        2021-10-24                 15.89   \n",
       "2             3.99       2017-11-30        2021-10-24                 33.12   \n",
       "3             2.11       2019-04-09        2021-10-24                 21.11   \n",
       "4             3.26       2020-10-23        2021-10-24                  6.65   \n",
       "\n",
       "   DAYSSINCELASTORDER  ...  TIME_0000_0600_ORDERS  TIME_0601_1200_ORDERS  \\\n",
       "0                   1  ...                     12                     61   \n",
       "1                   1  ...                      1                     13   \n",
       "2                   1  ...                      0                      6   \n",
       "3                   1  ...                      0                     10   \n",
       "4                   1  ...                      6                      9   \n",
       "\n",
       "   TIME_1200_1800_ORDERS  TIME_1801_2359_ORDERS  TIME_0000_0600_REVENUE  \\\n",
       "0                     37                     14                 1067.92   \n",
       "1                     24                     44                   30.25   \n",
       "2                     12                     25                    0.00   \n",
       "3                     13                     21                    0.00   \n",
       "4                     27                     13                  501.34   \n",
       "\n",
       "   TIME_0601_1200_REVENUE  TIME_1200_1800_REVENUE  TIME_1801_2359_REVENUE  \\\n",
       "0                 5674.65                 3916.53                 1327.44   \n",
       "1                 3143.69                 2205.47                 5646.55   \n",
       "2                  707.98                 2560.91                 3990.80   \n",
       "3                 1908.99                 2025.05                 3058.23   \n",
       "4                 1197.83                 3004.77                 1559.50   \n",
       "\n",
       "   Unnamed: 40  Unnamed: 41  \n",
       "0          NaN          NaN  \n",
       "1          NaN     33212.76  \n",
       "2          NaN          NaN  \n",
       "3          NaN          NaN  \n",
       "4          NaN          NaN  \n",
       "\n",
       "[5 rows x 42 columns]"
      ]
     },
     "execution_count": 3,
     "metadata": {},
     "output_type": "execute_result"
    }
   ],
   "source": [
    "#check the first 5 rows of the data\n",
    "sales_df.head(5)"
   ]
  },
  {
   "cell_type": "code",
   "execution_count": 4,
   "id": "00346112",
   "metadata": {},
   "outputs": [
    {
     "name": "stdout",
     "output_type": "stream",
     "text": [
      "<class 'pandas.core.frame.DataFrame'>\n",
      "RangeIndex: 5000 entries, 0 to 4999\n",
      "Data columns (total 42 columns):\n",
      " #   Column                     Non-Null Count  Dtype         \n",
      "---  ------                     --------------  -----         \n",
      " 0   CustomerID                 5000 non-null   int64         \n",
      " 1   TOTAL_ORDERS               5000 non-null   int64         \n",
      " 2   REVENUE                    5000 non-null   float64       \n",
      " 3   AVERAGE_ORDER_VALUE        5000 non-null   float64       \n",
      " 4   CARRIAGE_REVENUE           5000 non-null   float64       \n",
      " 5   AVERAGESHIPPING            5000 non-null   float64       \n",
      " 6   FIRST_ORDER_DATE           5000 non-null   datetime64[ns]\n",
      " 7   LATEST_ORDER_DATE          5000 non-null   datetime64[ns]\n",
      " 8   AVGDAYSBETWEENORDERS       5000 non-null   float64       \n",
      " 9   DAYSSINCELASTORDER         5000 non-null   int64         \n",
      " 10  MONDAY_ORDERS              5000 non-null   int64         \n",
      " 11  TUESDAY_ORDERS             5000 non-null   int64         \n",
      " 12  WEDNESDAY_ORDERS           5000 non-null   int64         \n",
      " 13  THURSDAY_ORDERS            5000 non-null   int64         \n",
      " 14  FRIDAY_ORDERS              5000 non-null   int64         \n",
      " 15  SATURDAY_ORDERS            5000 non-null   int64         \n",
      " 16  SUNDAY_ORDERS              5000 non-null   int64         \n",
      " 17  MONDAY_REVENUE             5000 non-null   float64       \n",
      " 18  TUESDAY_REVENUE            5000 non-null   float64       \n",
      " 19  WEDNESDAY_REVENUE          5000 non-null   float64       \n",
      " 20  THURSDAY_REVENUE           5000 non-null   float64       \n",
      " 21  FRIDAY_REVENUE             5000 non-null   float64       \n",
      " 22  SATURDAY_REVENUE           5000 non-null   float64       \n",
      " 23  SUNDAY_REVENUE             5000 non-null   float64       \n",
      " 24  WEEK1_DAY01_DAY07_ORDERS   5000 non-null   int64         \n",
      " 25  WEEK2_DAY08_DAY15_ORDERS   5000 non-null   int64         \n",
      " 26  WEEK3_DAY16_DAY23_ORDERS   5000 non-null   int64         \n",
      " 27  WEEK4_DAY24_DAY31_ORDERS   5000 non-null   int64         \n",
      " 28  WEEK1_DAY01_DAY07_REVENUE  5000 non-null   float64       \n",
      " 29  WEEK2_DAY08_DAY15_REVENUE  5000 non-null   float64       \n",
      " 30  WEEK3_DAY16_DAY23_REVENUE  5000 non-null   float64       \n",
      " 31  WEEK4_DAY24_DAY31_REVENUE  5000 non-null   float64       \n",
      " 32  TIME_0000_0600_ORDERS      5000 non-null   int64         \n",
      " 33  TIME_0601_1200_ORDERS      5000 non-null   int64         \n",
      " 34  TIME_1200_1800_ORDERS      5000 non-null   int64         \n",
      " 35  TIME_1801_2359_ORDERS      5000 non-null   int64         \n",
      " 36  TIME_0000_0600_REVENUE     5000 non-null   float64       \n",
      " 37  TIME_0601_1200_REVENUE     5000 non-null   float64       \n",
      " 38  TIME_1200_1800_REVENUE     5000 non-null   float64       \n",
      " 39  TIME_1801_2359_REVENUE     5000 non-null   float64       \n",
      " 40  Unnamed: 40                0 non-null      float64       \n",
      " 41  Unnamed: 41                1 non-null      float64       \n",
      "dtypes: datetime64[ns](2), float64(22), int64(18)\n",
      "memory usage: 1.6 MB\n"
     ]
    }
   ],
   "source": [
    "sales_df.info()"
   ]
  },
  {
   "cell_type": "code",
   "execution_count": 5,
   "id": "8d5a249f",
   "metadata": {},
   "outputs": [],
   "source": [
    "#drop unnamed 40 and 41 columns from df \n",
    "sales_df1 = sales_df.drop(['Unnamed: 40', 'Unnamed: 41'], axis = 1)"
   ]
  },
  {
   "cell_type": "code",
   "execution_count": 6,
   "id": "241eb27e",
   "metadata": {},
   "outputs": [
    {
     "data": {
      "text/plain": [
       "CustomerID                   0\n",
       "TOTAL_ORDERS                 0\n",
       "REVENUE                      0\n",
       "AVERAGE_ORDER_VALUE          0\n",
       "CARRIAGE_REVENUE             0\n",
       "AVERAGESHIPPING              0\n",
       "FIRST_ORDER_DATE             0\n",
       "LATEST_ORDER_DATE            0\n",
       "AVGDAYSBETWEENORDERS         0\n",
       "DAYSSINCELASTORDER           0\n",
       "MONDAY_ORDERS                0\n",
       "TUESDAY_ORDERS               0\n",
       "WEDNESDAY_ORDERS             0\n",
       "THURSDAY_ORDERS              0\n",
       "FRIDAY_ORDERS                0\n",
       "SATURDAY_ORDERS              0\n",
       "SUNDAY_ORDERS                0\n",
       "MONDAY_REVENUE               0\n",
       "TUESDAY_REVENUE              0\n",
       "WEDNESDAY_REVENUE            0\n",
       "THURSDAY_REVENUE             0\n",
       "FRIDAY_REVENUE               0\n",
       "SATURDAY_REVENUE             0\n",
       "SUNDAY_REVENUE               0\n",
       "WEEK1_DAY01_DAY07_ORDERS     0\n",
       "WEEK2_DAY08_DAY15_ORDERS     0\n",
       "WEEK3_DAY16_DAY23_ORDERS     0\n",
       "WEEK4_DAY24_DAY31_ORDERS     0\n",
       "WEEK1_DAY01_DAY07_REVENUE    0\n",
       "WEEK2_DAY08_DAY15_REVENUE    0\n",
       "WEEK3_DAY16_DAY23_REVENUE    0\n",
       "WEEK4_DAY24_DAY31_REVENUE    0\n",
       "TIME_0000_0600_ORDERS        0\n",
       "TIME_0601_1200_ORDERS        0\n",
       "TIME_1200_1800_ORDERS        0\n",
       "TIME_1801_2359_ORDERS        0\n",
       "TIME_0000_0600_REVENUE       0\n",
       "TIME_0601_1200_REVENUE       0\n",
       "TIME_1200_1800_REVENUE       0\n",
       "TIME_1801_2359_REVENUE       0\n",
       "dtype: int64"
      ]
     },
     "execution_count": 6,
     "metadata": {},
     "output_type": "execute_result"
    }
   ],
   "source": [
    "#check for missing values\n",
    "sales_df1.isnull().sum()"
   ]
  },
  {
   "cell_type": "code",
   "execution_count": 7,
   "id": "1dacd158",
   "metadata": {},
   "outputs": [
    {
     "data": {
      "text/html": [
       "<div>\n",
       "<style scoped>\n",
       "    .dataframe tbody tr th:only-of-type {\n",
       "        vertical-align: middle;\n",
       "    }\n",
       "\n",
       "    .dataframe tbody tr th {\n",
       "        vertical-align: top;\n",
       "    }\n",
       "\n",
       "    .dataframe thead th {\n",
       "        text-align: right;\n",
       "    }\n",
       "</style>\n",
       "<table border=\"1\" class=\"dataframe\">\n",
       "  <thead>\n",
       "    <tr style=\"text-align: right;\">\n",
       "      <th></th>\n",
       "      <th>CustomerID</th>\n",
       "      <th>TOTAL_ORDERS</th>\n",
       "      <th>REVENUE</th>\n",
       "      <th>AVERAGE_ORDER_VALUE</th>\n",
       "      <th>CARRIAGE_REVENUE</th>\n",
       "      <th>AVERAGESHIPPING</th>\n",
       "      <th>FIRST_ORDER_DATE</th>\n",
       "      <th>LATEST_ORDER_DATE</th>\n",
       "      <th>AVGDAYSBETWEENORDERS</th>\n",
       "      <th>DAYSSINCELASTORDER</th>\n",
       "      <th>...</th>\n",
       "      <th>WEEK3_DAY16_DAY23_REVENUE</th>\n",
       "      <th>WEEK4_DAY24_DAY31_REVENUE</th>\n",
       "      <th>TIME_0000_0600_ORDERS</th>\n",
       "      <th>TIME_0601_1200_ORDERS</th>\n",
       "      <th>TIME_1200_1800_ORDERS</th>\n",
       "      <th>TIME_1801_2359_ORDERS</th>\n",
       "      <th>TIME_0000_0600_REVENUE</th>\n",
       "      <th>TIME_0601_1200_REVENUE</th>\n",
       "      <th>TIME_1200_1800_REVENUE</th>\n",
       "      <th>TIME_1801_2359_REVENUE</th>\n",
       "    </tr>\n",
       "  </thead>\n",
       "  <tbody>\n",
       "  </tbody>\n",
       "</table>\n",
       "<p>0 rows × 40 columns</p>\n",
       "</div>"
      ],
      "text/plain": [
       "Empty DataFrame\n",
       "Columns: [CustomerID, TOTAL_ORDERS, REVENUE, AVERAGE_ORDER_VALUE, CARRIAGE_REVENUE, AVERAGESHIPPING, FIRST_ORDER_DATE, LATEST_ORDER_DATE, AVGDAYSBETWEENORDERS, DAYSSINCELASTORDER, MONDAY_ORDERS, TUESDAY_ORDERS, WEDNESDAY_ORDERS, THURSDAY_ORDERS, FRIDAY_ORDERS, SATURDAY_ORDERS, SUNDAY_ORDERS, MONDAY_REVENUE, TUESDAY_REVENUE, WEDNESDAY_REVENUE, THURSDAY_REVENUE, FRIDAY_REVENUE, SATURDAY_REVENUE, SUNDAY_REVENUE, WEEK1_DAY01_DAY07_ORDERS, WEEK2_DAY08_DAY15_ORDERS, WEEK3_DAY16_DAY23_ORDERS, WEEK4_DAY24_DAY31_ORDERS, WEEK1_DAY01_DAY07_REVENUE, WEEK2_DAY08_DAY15_REVENUE, WEEK3_DAY16_DAY23_REVENUE, WEEK4_DAY24_DAY31_REVENUE, TIME_0000_0600_ORDERS, TIME_0601_1200_ORDERS, TIME_1200_1800_ORDERS, TIME_1801_2359_ORDERS, TIME_0000_0600_REVENUE, TIME_0601_1200_REVENUE, TIME_1200_1800_REVENUE, TIME_1801_2359_REVENUE]\n",
       "Index: []\n",
       "\n",
       "[0 rows x 40 columns]"
      ]
     },
     "execution_count": 7,
     "metadata": {},
     "output_type": "execute_result"
    }
   ],
   "source": [
    "#check for duplicate values\n",
    "sales_df1[sales_df1.duplicated()]"
   ]
  },
  {
   "cell_type": "markdown",
   "id": "553dcefc",
   "metadata": {},
   "source": [
    "# Statistics"
   ]
  },
  {
   "cell_type": "code",
   "execution_count": 8,
   "id": "04f82b1d",
   "metadata": {},
   "outputs": [
    {
     "data": {
      "text/html": [
       "<div>\n",
       "<style scoped>\n",
       "    .dataframe tbody tr th:only-of-type {\n",
       "        vertical-align: middle;\n",
       "    }\n",
       "\n",
       "    .dataframe tbody tr th {\n",
       "        vertical-align: top;\n",
       "    }\n",
       "\n",
       "    .dataframe thead th {\n",
       "        text-align: right;\n",
       "    }\n",
       "</style>\n",
       "<table border=\"1\" class=\"dataframe\">\n",
       "  <thead>\n",
       "    <tr style=\"text-align: right;\">\n",
       "      <th></th>\n",
       "      <th>CustomerID</th>\n",
       "      <th>TOTAL_ORDERS</th>\n",
       "      <th>REVENUE</th>\n",
       "      <th>AVERAGE_ORDER_VALUE</th>\n",
       "      <th>CARRIAGE_REVENUE</th>\n",
       "      <th>AVERAGESHIPPING</th>\n",
       "      <th>AVGDAYSBETWEENORDERS</th>\n",
       "      <th>DAYSSINCELASTORDER</th>\n",
       "      <th>MONDAY_ORDERS</th>\n",
       "      <th>TUESDAY_ORDERS</th>\n",
       "      <th>...</th>\n",
       "      <th>WEEK3_DAY16_DAY23_REVENUE</th>\n",
       "      <th>WEEK4_DAY24_DAY31_REVENUE</th>\n",
       "      <th>TIME_0000_0600_ORDERS</th>\n",
       "      <th>TIME_0601_1200_ORDERS</th>\n",
       "      <th>TIME_1200_1800_ORDERS</th>\n",
       "      <th>TIME_1801_2359_ORDERS</th>\n",
       "      <th>TIME_0000_0600_REVENUE</th>\n",
       "      <th>TIME_0601_1200_REVENUE</th>\n",
       "      <th>TIME_1200_1800_REVENUE</th>\n",
       "      <th>TIME_1801_2359_REVENUE</th>\n",
       "    </tr>\n",
       "  </thead>\n",
       "  <tbody>\n",
       "    <tr>\n",
       "      <th>count</th>\n",
       "      <td>5000.000000</td>\n",
       "      <td>5000.00000</td>\n",
       "      <td>5000.000000</td>\n",
       "      <td>5000.000000</td>\n",
       "      <td>5000.000000</td>\n",
       "      <td>5000.000000</td>\n",
       "      <td>5000.000000</td>\n",
       "      <td>5000.000000</td>\n",
       "      <td>5000.000000</td>\n",
       "      <td>5000.00000</td>\n",
       "      <td>...</td>\n",
       "      <td>5000.000000</td>\n",
       "      <td>5000.000000</td>\n",
       "      <td>5000.000000</td>\n",
       "      <td>5000.000000</td>\n",
       "      <td>5000.000000</td>\n",
       "      <td>5000.000000</td>\n",
       "      <td>5000.000000</td>\n",
       "      <td>5000.000000</td>\n",
       "      <td>5000.000000</td>\n",
       "      <td>5000.000000</td>\n",
       "    </tr>\n",
       "    <tr>\n",
       "      <th>mean</th>\n",
       "      <td>40709.227800</td>\n",
       "      <td>12.87040</td>\n",
       "      <td>1681.523840</td>\n",
       "      <td>136.537378</td>\n",
       "      <td>46.036376</td>\n",
       "      <td>3.592574</td>\n",
       "      <td>163.159618</td>\n",
       "      <td>87.420000</td>\n",
       "      <td>1.629000</td>\n",
       "      <td>1.75440</td>\n",
       "      <td>...</td>\n",
       "      <td>421.826908</td>\n",
       "      <td>474.462852</td>\n",
       "      <td>1.028800</td>\n",
       "      <td>3.746200</td>\n",
       "      <td>4.434000</td>\n",
       "      <td>3.661400</td>\n",
       "      <td>131.062636</td>\n",
       "      <td>486.863868</td>\n",
       "      <td>584.731626</td>\n",
       "      <td>478.865710</td>\n",
       "    </tr>\n",
       "    <tr>\n",
       "      <th>std</th>\n",
       "      <td>49949.848017</td>\n",
       "      <td>12.67988</td>\n",
       "      <td>1998.618678</td>\n",
       "      <td>91.651569</td>\n",
       "      <td>47.879226</td>\n",
       "      <td>2.021360</td>\n",
       "      <td>259.699496</td>\n",
       "      <td>80.156513</td>\n",
       "      <td>2.236506</td>\n",
       "      <td>2.43394</td>\n",
       "      <td>...</td>\n",
       "      <td>643.449120</td>\n",
       "      <td>617.579321</td>\n",
       "      <td>2.174331</td>\n",
       "      <td>4.700234</td>\n",
       "      <td>5.044793</td>\n",
       "      <td>4.581894</td>\n",
       "      <td>331.289349</td>\n",
       "      <td>789.029911</td>\n",
       "      <td>804.290026</td>\n",
       "      <td>743.244248</td>\n",
       "    </tr>\n",
       "    <tr>\n",
       "      <th>min</th>\n",
       "      <td>1.000000</td>\n",
       "      <td>1.00000</td>\n",
       "      <td>38.500000</td>\n",
       "      <td>10.680000</td>\n",
       "      <td>0.000000</td>\n",
       "      <td>0.000000</td>\n",
       "      <td>0.000000</td>\n",
       "      <td>1.000000</td>\n",
       "      <td>0.000000</td>\n",
       "      <td>0.00000</td>\n",
       "      <td>...</td>\n",
       "      <td>0.000000</td>\n",
       "      <td>0.000000</td>\n",
       "      <td>0.000000</td>\n",
       "      <td>0.000000</td>\n",
       "      <td>0.000000</td>\n",
       "      <td>0.000000</td>\n",
       "      <td>0.000000</td>\n",
       "      <td>0.000000</td>\n",
       "      <td>0.000000</td>\n",
       "      <td>0.000000</td>\n",
       "    </tr>\n",
       "    <tr>\n",
       "      <th>25%</th>\n",
       "      <td>1687.500000</td>\n",
       "      <td>3.00000</td>\n",
       "      <td>315.097500</td>\n",
       "      <td>83.025000</td>\n",
       "      <td>9.980000</td>\n",
       "      <td>2.500000</td>\n",
       "      <td>21.670000</td>\n",
       "      <td>7.000000</td>\n",
       "      <td>0.000000</td>\n",
       "      <td>0.00000</td>\n",
       "      <td>...</td>\n",
       "      <td>0.000000</td>\n",
       "      <td>80.000000</td>\n",
       "      <td>0.000000</td>\n",
       "      <td>1.000000</td>\n",
       "      <td>1.000000</td>\n",
       "      <td>1.000000</td>\n",
       "      <td>0.000000</td>\n",
       "      <td>35.000000</td>\n",
       "      <td>89.990000</td>\n",
       "      <td>1.000000</td>\n",
       "    </tr>\n",
       "    <tr>\n",
       "      <th>50%</th>\n",
       "      <td>13765.000000</td>\n",
       "      <td>8.00000</td>\n",
       "      <td>966.725000</td>\n",
       "      <td>113.160000</td>\n",
       "      <td>24.985000</td>\n",
       "      <td>3.660000</td>\n",
       "      <td>57.635000</td>\n",
       "      <td>68.000000</td>\n",
       "      <td>1.000000</td>\n",
       "      <td>1.00000</td>\n",
       "      <td>...</td>\n",
       "      <td>194.990000</td>\n",
       "      <td>264.485000</td>\n",
       "      <td>0.000000</td>\n",
       "      <td>2.000000</td>\n",
       "      <td>3.000000</td>\n",
       "      <td>2.000000</td>\n",
       "      <td>0.000000</td>\n",
       "      <td>236.440000</td>\n",
       "      <td>299.840000</td>\n",
       "      <td>208.990000</td>\n",
       "    </tr>\n",
       "    <tr>\n",
       "      <th>75%</th>\n",
       "      <td>71891.500000</td>\n",
       "      <td>20.00000</td>\n",
       "      <td>2493.072500</td>\n",
       "      <td>160.272500</td>\n",
       "      <td>76.862500</td>\n",
       "      <td>4.790000</td>\n",
       "      <td>170.357500</td>\n",
       "      <td>171.250000</td>\n",
       "      <td>2.000000</td>\n",
       "      <td>3.00000</td>\n",
       "      <td>...</td>\n",
       "      <td>604.085000</td>\n",
       "      <td>651.487500</td>\n",
       "      <td>1.000000</td>\n",
       "      <td>6.000000</td>\n",
       "      <td>7.000000</td>\n",
       "      <td>5.000000</td>\n",
       "      <td>131.282500</td>\n",
       "      <td>661.952500</td>\n",
       "      <td>797.032500</td>\n",
       "      <td>620.117500</td>\n",
       "    </tr>\n",
       "    <tr>\n",
       "      <th>max</th>\n",
       "      <td>277160.000000</td>\n",
       "      <td>156.00000</td>\n",
       "      <td>34847.400000</td>\n",
       "      <td>1578.880000</td>\n",
       "      <td>529.590000</td>\n",
       "      <td>35.990000</td>\n",
       "      <td>1409.500000</td>\n",
       "      <td>207.000000</td>\n",
       "      <td>19.000000</td>\n",
       "      <td>23.00000</td>\n",
       "      <td>...</td>\n",
       "      <td>12946.220000</td>\n",
       "      <td>8274.970000</td>\n",
       "      <td>34.000000</td>\n",
       "      <td>61.000000</td>\n",
       "      <td>58.000000</td>\n",
       "      <td>64.000000</td>\n",
       "      <td>7700.240000</td>\n",
       "      <td>23832.770000</td>\n",
       "      <td>17749.010000</td>\n",
       "      <td>12995.020000</td>\n",
       "    </tr>\n",
       "  </tbody>\n",
       "</table>\n",
       "<p>8 rows × 38 columns</p>\n",
       "</div>"
      ],
      "text/plain": [
       "          CustomerID  TOTAL_ORDERS       REVENUE  AVERAGE_ORDER_VALUE  \\\n",
       "count    5000.000000    5000.00000   5000.000000          5000.000000   \n",
       "mean    40709.227800      12.87040   1681.523840           136.537378   \n",
       "std     49949.848017      12.67988   1998.618678            91.651569   \n",
       "min         1.000000       1.00000     38.500000            10.680000   \n",
       "25%      1687.500000       3.00000    315.097500            83.025000   \n",
       "50%     13765.000000       8.00000    966.725000           113.160000   \n",
       "75%     71891.500000      20.00000   2493.072500           160.272500   \n",
       "max    277160.000000     156.00000  34847.400000          1578.880000   \n",
       "\n",
       "       CARRIAGE_REVENUE  AVERAGESHIPPING  AVGDAYSBETWEENORDERS  \\\n",
       "count       5000.000000      5000.000000           5000.000000   \n",
       "mean          46.036376         3.592574            163.159618   \n",
       "std           47.879226         2.021360            259.699496   \n",
       "min            0.000000         0.000000              0.000000   \n",
       "25%            9.980000         2.500000             21.670000   \n",
       "50%           24.985000         3.660000             57.635000   \n",
       "75%           76.862500         4.790000            170.357500   \n",
       "max          529.590000        35.990000           1409.500000   \n",
       "\n",
       "       DAYSSINCELASTORDER  MONDAY_ORDERS  TUESDAY_ORDERS  ...  \\\n",
       "count         5000.000000    5000.000000      5000.00000  ...   \n",
       "mean            87.420000       1.629000         1.75440  ...   \n",
       "std             80.156513       2.236506         2.43394  ...   \n",
       "min              1.000000       0.000000         0.00000  ...   \n",
       "25%              7.000000       0.000000         0.00000  ...   \n",
       "50%             68.000000       1.000000         1.00000  ...   \n",
       "75%            171.250000       2.000000         3.00000  ...   \n",
       "max            207.000000      19.000000        23.00000  ...   \n",
       "\n",
       "       WEEK3_DAY16_DAY23_REVENUE  WEEK4_DAY24_DAY31_REVENUE  \\\n",
       "count                5000.000000                5000.000000   \n",
       "mean                  421.826908                 474.462852   \n",
       "std                   643.449120                 617.579321   \n",
       "min                     0.000000                   0.000000   \n",
       "25%                     0.000000                  80.000000   \n",
       "50%                   194.990000                 264.485000   \n",
       "75%                   604.085000                 651.487500   \n",
       "max                 12946.220000                8274.970000   \n",
       "\n",
       "       TIME_0000_0600_ORDERS  TIME_0601_1200_ORDERS  TIME_1200_1800_ORDERS  \\\n",
       "count            5000.000000            5000.000000            5000.000000   \n",
       "mean                1.028800               3.746200               4.434000   \n",
       "std                 2.174331               4.700234               5.044793   \n",
       "min                 0.000000               0.000000               0.000000   \n",
       "25%                 0.000000               1.000000               1.000000   \n",
       "50%                 0.000000               2.000000               3.000000   \n",
       "75%                 1.000000               6.000000               7.000000   \n",
       "max                34.000000              61.000000              58.000000   \n",
       "\n",
       "       TIME_1801_2359_ORDERS  TIME_0000_0600_REVENUE  TIME_0601_1200_REVENUE  \\\n",
       "count            5000.000000             5000.000000             5000.000000   \n",
       "mean                3.661400              131.062636              486.863868   \n",
       "std                 4.581894              331.289349              789.029911   \n",
       "min                 0.000000                0.000000                0.000000   \n",
       "25%                 1.000000                0.000000               35.000000   \n",
       "50%                 2.000000                0.000000              236.440000   \n",
       "75%                 5.000000              131.282500              661.952500   \n",
       "max                64.000000             7700.240000            23832.770000   \n",
       "\n",
       "       TIME_1200_1800_REVENUE  TIME_1801_2359_REVENUE  \n",
       "count             5000.000000             5000.000000  \n",
       "mean               584.731626              478.865710  \n",
       "std                804.290026              743.244248  \n",
       "min                  0.000000                0.000000  \n",
       "25%                 89.990000                1.000000  \n",
       "50%                299.840000              208.990000  \n",
       "75%                797.032500              620.117500  \n",
       "max              17749.010000            12995.020000  \n",
       "\n",
       "[8 rows x 38 columns]"
      ]
     },
     "execution_count": 8,
     "metadata": {},
     "output_type": "execute_result"
    }
   ],
   "source": [
    "sales_df1.describe()"
   ]
  },
  {
   "cell_type": "code",
   "execution_count": 9,
   "id": "a5ebd997",
   "metadata": {},
   "outputs": [
    {
     "data": {
      "text/plain": [
       "<AxesSubplot:xlabel='TOTAL_ORDERS', ylabel='Count'>"
      ]
     },
     "execution_count": 9,
     "metadata": {},
     "output_type": "execute_result"
    },
    {
     "data": {
      "image/png": "[encoded data removed]",
      "text/plain": [
       "<Figure size 432x288 with 1 Axes>"
      ]
     },
     "metadata": {},
     "output_type": "display_data"
    }
   ],
   "source": [
    "#plot the variable distribution\n",
    "sns.histplot(sales_df1['TOTAL_ORDERS'])"
   ]
  },
  {
   "cell_type": "code",
   "execution_count": 10,
   "id": "2c0f57f1",
   "metadata": {},
   "outputs": [
    {
     "data": {
      "text/plain": [
       "<AxesSubplot:xlabel='REVENUE', ylabel='Count'>"
      ]
     },
     "execution_count": 10,
     "metadata": {},
     "output_type": "execute_result"
    },
    {
     "data": {
      "image/png": "[encoded data removed]",
      "text/plain": [
       "<Figure size 432x288 with 1 Axes>"
      ]
     },
     "metadata": {},
     "output_type": "display_data"
    }
   ],
   "source": [
    "sns.histplot(sales_df1['REVENUE'])"
   ]
  },
  {
   "cell_type": "code",
   "execution_count": 11,
   "id": "c55ab9bd",
   "metadata": {},
   "outputs": [
    {
     "data": {
      "text/plain": [
       "<AxesSubplot:xlabel='AVGDAYSBETWEENORDERS', ylabel='Count'>"
      ]
     },
     "execution_count": 11,
     "metadata": {},
     "output_type": "execute_result"
    },
    {
     "data": {
      "image/png": "[encoded data removed]",
      "text/plain": [
       "<Figure size 432x288 with 1 Axes>"
      ]
     },
     "metadata": {},
     "output_type": "display_data"
    }
   ],
   "source": [
    "sns.histplot(sales_df1['AVGDAYSBETWEENORDERS'])"
   ]
  },
  {
   "cell_type": "markdown",
   "id": "3c7379e0",
   "metadata": {},
   "source": [
    "# RFM Analysis using K-means"
   ]
  },
  {
   "cell_type": "markdown",
   "id": "5856ba53",
   "metadata": {},
   "source": [
    "RFM Data Frame"
   ]
  },
  {
   "cell_type": "code",
   "execution_count": 12,
   "id": "9f3c3321",
   "metadata": {},
   "outputs": [
    {
     "data": {
      "text/html": [
       "<div>\n",
       "<style scoped>\n",
       "    .dataframe tbody tr th:only-of-type {\n",
       "        vertical-align: middle;\n",
       "    }\n",
       "\n",
       "    .dataframe tbody tr th {\n",
       "        vertical-align: top;\n",
       "    }\n",
       "\n",
       "    .dataframe thead th {\n",
       "        text-align: right;\n",
       "    }\n",
       "</style>\n",
       "<table border=\"1\" class=\"dataframe\">\n",
       "  <thead>\n",
       "    <tr style=\"text-align: right;\">\n",
       "      <th></th>\n",
       "      <th>CustomerID</th>\n",
       "      <th>Recency</th>\n",
       "      <th>Frequency</th>\n",
       "      <th>Monetary</th>\n",
       "    </tr>\n",
       "  </thead>\n",
       "  <tbody>\n",
       "    <tr>\n",
       "      <th>0</th>\n",
       "      <td>22</td>\n",
       "      <td>1</td>\n",
       "      <td>124</td>\n",
       "      <td>11986.54</td>\n",
       "    </tr>\n",
       "    <tr>\n",
       "      <th>1</th>\n",
       "      <td>29</td>\n",
       "      <td>1</td>\n",
       "      <td>82</td>\n",
       "      <td>11025.96</td>\n",
       "    </tr>\n",
       "    <tr>\n",
       "      <th>2</th>\n",
       "      <td>83</td>\n",
       "      <td>1</td>\n",
       "      <td>43</td>\n",
       "      <td>7259.69</td>\n",
       "    </tr>\n",
       "    <tr>\n",
       "      <th>3</th>\n",
       "      <td>95</td>\n",
       "      <td>1</td>\n",
       "      <td>44</td>\n",
       "      <td>6992.27</td>\n",
       "    </tr>\n",
       "    <tr>\n",
       "      <th>4</th>\n",
       "      <td>124</td>\n",
       "      <td>1</td>\n",
       "      <td>55</td>\n",
       "      <td>6263.44</td>\n",
       "    </tr>\n",
       "  </tbody>\n",
       "</table>\n",
       "</div>"
      ],
      "text/plain": [
       "   CustomerID  Recency  Frequency  Monetary\n",
       "0          22        1        124  11986.54\n",
       "1          29        1         82  11025.96\n",
       "2          83        1         43   7259.69\n",
       "3          95        1         44   6992.27\n",
       "4         124        1         55   6263.44"
      ]
     },
     "execution_count": 12,
     "metadata": {},
     "output_type": "execute_result"
    }
   ],
   "source": [
    "Rfm_df = pd.DataFrame()\n",
    "Rfm_df['CustomerID'] = sales_df1['CustomerID']\n",
    "Rfm_df['Recency'] = sales_df1['DAYSSINCELASTORDER']\n",
    "Rfm_df['Frequency'] = sales_df1['TOTAL_ORDERS'] \n",
    "Rfm_df['Monetary'] =  sales_df1['REVENUE']\n",
    "Rfm_df.head(5)\n"
   ]
  },
  {
   "cell_type": "markdown",
   "id": "65f55913",
   "metadata": {},
   "source": [
    "Data Pre-processing for K-means\n",
    "There are three conditions for applying K-means :\n",
    "1. The data should not be skewed.\n",
    "2. There should not be any outliers.\n",
    "3. The data must have same mean and varience which we are doing by making mean 0 and varience 1."
   ]
  },
  {
   "cell_type": "code",
   "execution_count": 13,
   "id": "7bf0daab",
   "metadata": {},
   "outputs": [],
   "source": [
    "import scipy.stats as stats\n",
    "## Function to check skewness\n",
    "def check_skew(df_skew, column):\n",
    "    skew = stats.skew(df_skew[column])\n",
    "    skewtest = stats.skewtest(df_skew[column])\n",
    "    plt.title('Distribution of ' + column)\n",
    "    sns.distplot(df_skew[column])\n",
    "    print(\"{}'s: Skew: {}, : {}\".format(column, skew, skewtest))\n",
    "    return"
   ]
  },
  {
   "cell_type": "code",
   "execution_count": 14,
   "id": "1aafed09",
   "metadata": {},
   "outputs": [
    {
     "name": "stderr",
     "output_type": "stream",
     "text": [
      "C:\\Users\\ag_ma\\anaconda3\\lib\\site-packages\\seaborn\\distributions.py:2619: FutureWarning: `distplot` is a deprecated function and will be removed in a future version. Please adapt your code to use either `displot` (a figure-level function with similar flexibility) or `histplot` (an axes-level function for histograms).\n",
      "  warnings.warn(msg, FutureWarning)\n"
     ]
    },
    {
     "name": "stdout",
     "output_type": "stream",
     "text": [
      "Recency's: Skew: 0.38988590321021616, : SkewtestResult(statistic=10.883871203566208, pvalue=1.3759265709127746e-27)\n",
      "Frequency's: Skew: 2.2051032699965187, : SkewtestResult(statistic=40.626085656509744, pvalue=0.0)\n"
     ]
    },
    {
     "name": "stderr",
     "output_type": "stream",
     "text": [
      "C:\\Users\\ag_ma\\anaconda3\\lib\\site-packages\\seaborn\\distributions.py:2619: FutureWarning: `distplot` is a deprecated function and will be removed in a future version. Please adapt your code to use either `displot` (a figure-level function with similar flexibility) or `histplot` (an axes-level function for histograms).\n",
      "  warnings.warn(msg, FutureWarning)\n",
      "C:\\Users\\ag_ma\\anaconda3\\lib\\site-packages\\seaborn\\distributions.py:2619: FutureWarning: `distplot` is a deprecated function and will be removed in a future version. Please adapt your code to use either `displot` (a figure-level function with similar flexibility) or `histplot` (an axes-level function for histograms).\n",
      "  warnings.warn(msg, FutureWarning)\n"
     ]
    },
    {
     "name": "stdout",
     "output_type": "stream",
     "text": [
      "Monetary's: Skew: 3.9046028374548234, : SkewtestResult(statistic=53.62430461483527, pvalue=0.0)\n"
     ]
    },
    {
     "data": {
      "image/png": "[encoded data removed]",
      "text/plain": [
       "<Figure size 648x648 with 3 Axes>"
      ]
     },
     "metadata": {},
     "output_type": "display_data"
    }
   ],
   "source": [
    "# Plot all 3 graphs together for summary findings\n",
    "plt.figure(figsize=(9, 9))\n",
    "\n",
    "plt.subplot(3, 1, 1)\n",
    "check_skew(Rfm_df,'Recency')\n",
    "\n",
    "plt.subplot(3, 1, 2)\n",
    "check_skew(Rfm_df,'Frequency')\n",
    "\n",
    "plt.subplot(3, 1, 3)\n",
    "check_skew(Rfm_df,'Monetary')\n",
    "\n",
    "plt.tight_layout()"
   ]
  },
  {
   "cell_type": "markdown",
   "id": "c19e833f",
   "metadata": {},
   "source": [
    "Since the data is highly skewed for Frequenct and Monetary. We are doing the log transformation."
   ]
  },
  {
   "cell_type": "code",
   "execution_count": 15,
   "id": "54c5b05d",
   "metadata": {},
   "outputs": [
    {
     "data": {
      "text/html": [
       "<div>\n",
       "<style scoped>\n",
       "    .dataframe tbody tr th:only-of-type {\n",
       "        vertical-align: middle;\n",
       "    }\n",
       "\n",
       "    .dataframe tbody tr th {\n",
       "        vertical-align: top;\n",
       "    }\n",
       "\n",
       "    .dataframe thead th {\n",
       "        text-align: right;\n",
       "    }\n",
       "</style>\n",
       "<table border=\"1\" class=\"dataframe\">\n",
       "  <thead>\n",
       "    <tr style=\"text-align: right;\">\n",
       "      <th></th>\n",
       "      <th>Frequency</th>\n",
       "      <th>Monetary</th>\n",
       "    </tr>\n",
       "  </thead>\n",
       "  <tbody>\n",
       "    <tr>\n",
       "      <th>0</th>\n",
       "      <td>124</td>\n",
       "      <td>11986.54</td>\n",
       "    </tr>\n",
       "    <tr>\n",
       "      <th>1</th>\n",
       "      <td>82</td>\n",
       "      <td>11025.96</td>\n",
       "    </tr>\n",
       "    <tr>\n",
       "      <th>2</th>\n",
       "      <td>43</td>\n",
       "      <td>7259.69</td>\n",
       "    </tr>\n",
       "    <tr>\n",
       "      <th>3</th>\n",
       "      <td>44</td>\n",
       "      <td>6992.27</td>\n",
       "    </tr>\n",
       "    <tr>\n",
       "      <th>4</th>\n",
       "      <td>55</td>\n",
       "      <td>6263.44</td>\n",
       "    </tr>\n",
       "  </tbody>\n",
       "</table>\n",
       "</div>"
      ],
      "text/plain": [
       "   Frequency  Monetary\n",
       "0        124  11986.54\n",
       "1         82  11025.96\n",
       "2         43   7259.69\n",
       "3         44   6992.27\n",
       "4         55   6263.44"
      ]
     },
     "execution_count": 15,
     "metadata": {},
     "output_type": "execute_result"
    }
   ],
   "source": [
    "Rfm_df_Log = Rfm_df[['Frequency','Monetary']].copy()\n",
    "Rfm_df_Log.head()"
   ]
  },
  {
   "cell_type": "code",
   "execution_count": 47,
   "id": "c6d9982e",
   "metadata": {},
   "outputs": [
    {
     "data": {
      "text/html": [
       "<div>\n",
       "<style scoped>\n",
       "    .dataframe tbody tr th:only-of-type {\n",
       "        vertical-align: middle;\n",
       "    }\n",
       "\n",
       "    .dataframe tbody tr th {\n",
       "        vertical-align: top;\n",
       "    }\n",
       "\n",
       "    .dataframe thead th {\n",
       "        text-align: right;\n",
       "    }\n",
       "</style>\n",
       "<table border=\"1\" class=\"dataframe\">\n",
       "  <thead>\n",
       "    <tr style=\"text-align: right;\">\n",
       "      <th></th>\n",
       "      <th>Frequency</th>\n",
       "      <th>Monetary</th>\n",
       "      <th>Recency</th>\n",
       "    </tr>\n",
       "  </thead>\n",
       "  <tbody>\n",
       "    <tr>\n",
       "      <th>0</th>\n",
       "      <td>1.762728</td>\n",
       "      <td>2.253141</td>\n",
       "      <td>1</td>\n",
       "    </tr>\n",
       "    <tr>\n",
       "      <th>1</th>\n",
       "      <td>1.689882</td>\n",
       "      <td>2.253141</td>\n",
       "      <td>1</td>\n",
       "    </tr>\n",
       "    <tr>\n",
       "      <th>2</th>\n",
       "      <td>1.565317</td>\n",
       "      <td>2.253141</td>\n",
       "      <td>1</td>\n",
       "    </tr>\n",
       "    <tr>\n",
       "      <th>3</th>\n",
       "      <td>1.570003</td>\n",
       "      <td>2.253141</td>\n",
       "      <td>1</td>\n",
       "    </tr>\n",
       "    <tr>\n",
       "      <th>4</th>\n",
       "      <td>1.614495</td>\n",
       "      <td>2.253141</td>\n",
       "      <td>1</td>\n",
       "    </tr>\n",
       "  </tbody>\n",
       "</table>\n",
       "</div>"
      ],
      "text/plain": [
       "   Frequency  Monetary  Recency\n",
       "0   1.762728  2.253141        1\n",
       "1   1.689882  2.253141        1\n",
       "2   1.565317  2.253141        1\n",
       "3   1.570003  2.253141        1\n",
       "4   1.614495  2.253141        1"
      ]
     },
     "execution_count": 47,
     "metadata": {},
     "output_type": "execute_result"
    }
   ],
   "source": [
    "import numpy as np\n",
    "Rfm_df_Log = np.log(Rfm_df_Log + 1)#Added 1 since log only takes positive values\n",
    "Rfm_df_Log['Recency'] = Rfm_df['Recency'] \n",
    "Rfm_df_Log.head(5)"
   ]
  },
  {
   "cell_type": "code",
   "execution_count": 17,
   "id": "e4894274",
   "metadata": {},
   "outputs": [
    {
     "name": "stderr",
     "output_type": "stream",
     "text": [
      "C:\\Users\\ag_ma\\anaconda3\\lib\\site-packages\\seaborn\\distributions.py:2619: FutureWarning: `distplot` is a deprecated function and will be removed in a future version. Please adapt your code to use either `displot` (a figure-level function with similar flexibility) or `histplot` (an axes-level function for histograms).\n",
      "  warnings.warn(msg, FutureWarning)\n",
      "C:\\Users\\ag_ma\\anaconda3\\lib\\site-packages\\seaborn\\distributions.py:2619: FutureWarning: `distplot` is a deprecated function and will be removed in a future version. Please adapt your code to use either `displot` (a figure-level function with similar flexibility) or `histplot` (an axes-level function for histograms).\n",
      "  warnings.warn(msg, FutureWarning)\n"
     ]
    },
    {
     "name": "stdout",
     "output_type": "stream",
     "text": [
      "Recency's: Skew: 0.38988590321021616, : SkewtestResult(statistic=10.883871203566208, pvalue=1.3759265709127746e-27)\n",
      "Frequency's: Skew: -0.0014588222020842847, : SkewtestResult(statistic=-0.042175489304000405, pvalue=0.9663588018718732)\n"
     ]
    },
    {
     "name": "stderr",
     "output_type": "stream",
     "text": [
      "C:\\Users\\ag_ma\\anaconda3\\lib\\site-packages\\seaborn\\distributions.py:2619: FutureWarning: `distplot` is a deprecated function and will be removed in a future version. Please adapt your code to use either `displot` (a figure-level function with similar flexibility) or `histplot` (an axes-level function for histograms).\n",
      "  warnings.warn(msg, FutureWarning)\n"
     ]
    },
    {
     "name": "stdout",
     "output_type": "stream",
     "text": [
      "Monetary's: Skew: -0.013607943707066862, : SkewtestResult(statistic=-0.3933964952371529, pvalue=0.6940266578272754)\n"
     ]
    },
    {
     "data": {
      "image/png": "[encoded data removed]",
      "text/plain": [
       "<Figure size 648x648 with 3 Axes>"
      ]
     },
     "metadata": {},
     "output_type": "display_data"
    }
   ],
   "source": [
    "# Plot all 3 graphs together for summary findings\n",
    "plt.figure(figsize=(9, 9))\n",
    "\n",
    "plt.subplot(3, 1, 1)\n",
    "check_skew(Rfm_df_Log,'Recency')\n",
    "\n",
    "plt.subplot(3, 1, 2)\n",
    "check_skew(Rfm_df_Log,'Frequency')\n",
    "\n",
    "plt.subplot(3, 1, 3)\n",
    "check_skew(Rfm_df_Log,'Monetary')\n",
    "\n",
    "plt.tight_layout()"
   ]
  },
  {
   "cell_type": "code",
   "execution_count": 18,
   "id": "718040b9",
   "metadata": {},
   "outputs": [
    {
     "data": {
      "text/plain": [
       "{'whiskers': [<matplotlib.lines.Line2D at 0x1b5943fa0a0>,\n",
       "  <matplotlib.lines.Line2D at 0x1b5943fa370>],\n",
       " 'caps': [<matplotlib.lines.Line2D at 0x1b5943fa640>,\n",
       "  <matplotlib.lines.Line2D at 0x1b5943fa910>],\n",
       " 'boxes': [<matplotlib.lines.Line2D at 0x1b5943edd90>],\n",
       " 'medians': [<matplotlib.lines.Line2D at 0x1b5943fabe0>],\n",
       " 'fliers': [<matplotlib.lines.Line2D at 0x1b5943faeb0>],\n",
       " 'means': []}"
      ]
     },
     "execution_count": 18,
     "metadata": {},
     "output_type": "execute_result"
    },
    {
     "data": {
      "image/png": "[encoded data removed]",
      "text/plain": [
       "<Figure size 720x720 with 1 Axes>"
      ]
     },
     "metadata": {},
     "output_type": "display_data"
    }
   ],
   "source": [
    "# Dealing with the outliers\n",
    "# First let us check the outliers situation\n",
    "plt.figure(figsize=(10,10))\n",
    "plt.boxplot(Rfm_df_Log['Recency'])"
   ]
  },
  {
   "cell_type": "code",
   "execution_count": 19,
   "id": "f215db5f",
   "metadata": {},
   "outputs": [
    {
     "data": {
      "text/plain": [
       "{'whiskers': [<matplotlib.lines.Line2D at 0x1b5945b3b50>,\n",
       "  <matplotlib.lines.Line2D at 0x1b5945b3e20>],\n",
       " 'caps': [<matplotlib.lines.Line2D at 0x1b5945c2130>,\n",
       "  <matplotlib.lines.Line2D at 0x1b5945c2430>],\n",
       " 'boxes': [<matplotlib.lines.Line2D at 0x1b5945b3880>],\n",
       " 'medians': [<matplotlib.lines.Line2D at 0x1b5945c2700>],\n",
       " 'fliers': [<matplotlib.lines.Line2D at 0x1b5945c29d0>],\n",
       " 'means': []}"
      ]
     },
     "execution_count": 19,
     "metadata": {},
     "output_type": "execute_result"
    },
    {
     "data": {
      "image/png": "[encoded data removed]",
      "text/plain": [
       "<Figure size 720x720 with 1 Axes>"
      ]
     },
     "metadata": {},
     "output_type": "display_data"
    }
   ],
   "source": [
    "plt.figure(figsize=(10,10))\n",
    "plt.boxplot(Rfm_df_Log['Frequency'])"
   ]
  },
  {
   "cell_type": "code",
   "execution_count": 20,
   "id": "a637e5df",
   "metadata": {},
   "outputs": [
    {
     "data": {
      "text/plain": [
       "{'whiskers': [<matplotlib.lines.Line2D at 0x1b593eb36a0>,\n",
       "  <matplotlib.lines.Line2D at 0x1b591cf14c0>],\n",
       " 'caps': [<matplotlib.lines.Line2D at 0x1b593f72e20>,\n",
       "  <matplotlib.lines.Line2D at 0x1b593f72970>],\n",
       " 'boxes': [<matplotlib.lines.Line2D at 0x1b593eb3d60>],\n",
       " 'medians': [<matplotlib.lines.Line2D at 0x1b593f72130>],\n",
       " 'fliers': [<matplotlib.lines.Line2D at 0x1b593f725b0>],\n",
       " 'means': []}"
      ]
     },
     "execution_count": 20,
     "metadata": {},
     "output_type": "execute_result"
    },
    {
     "data": {
      "image/png": "[encoded data removed]",
      "text/plain": [
       "<Figure size 720x720 with 1 Axes>"
      ]
     },
     "metadata": {},
     "output_type": "display_data"
    }
   ],
   "source": [
    "plt.figure(figsize=(10,10))\n",
    "plt.boxplot(Rfm_df_Log['Monetary'])"
   ]
  },
  {
   "cell_type": "code",
   "execution_count": 21,
   "id": "c3cca1f5",
   "metadata": {},
   "outputs": [],
   "source": [
    "# Fix the outlier in Monetary\n",
    "from scipy.stats.mstats import winsorize\n",
    "Rfm_df_Log['Monetary'] = winsorize(Rfm_df_Log['Monetary'],(.05,0.05))\n"
   ]
  },
  {
   "cell_type": "code",
   "execution_count": 22,
   "id": "4c19f452",
   "metadata": {},
   "outputs": [
    {
     "data": {
      "text/plain": [
       "{'whiskers': [<matplotlib.lines.Line2D at 0x1b593e36c10>,\n",
       "  <matplotlib.lines.Line2D at 0x1b593e55f70>],\n",
       " 'caps': [<matplotlib.lines.Line2D at 0x1b593e55070>,\n",
       "  <matplotlib.lines.Line2D at 0x1b593e552b0>],\n",
       " 'boxes': [<matplotlib.lines.Line2D at 0x1b593e36be0>],\n",
       " 'medians': [<matplotlib.lines.Line2D at 0x1b593e55730>],\n",
       " 'fliers': [<matplotlib.lines.Line2D at 0x1b593e55760>],\n",
       " 'means': []}"
      ]
     },
     "execution_count": 22,
     "metadata": {},
     "output_type": "execute_result"
    },
    {
     "data": {
      "image/png": "[encoded data removed]",
      "text/plain": [
       "<Figure size 720x720 with 1 Axes>"
      ]
     },
     "metadata": {},
     "output_type": "display_data"
    }
   ],
   "source": [
    "#checking with a boxplot\n",
    "plt.figure(figsize=(10,10))\n",
    "plt.boxplot(Rfm_df_Log['Monetary'])"
   ]
  },
  {
   "cell_type": "markdown",
   "id": "8e1ae4dd",
   "metadata": {},
   "source": [
    "Standerdise the distributions by making mean 0 and varience 1"
   ]
  },
  {
   "cell_type": "code",
   "execution_count": 23,
   "id": "49e3891a",
   "metadata": {},
   "outputs": [],
   "source": [
    "# standerdise the distributions by making mean 0 and varience 1\n",
    "from sklearn.preprocessing import StandardScaler\n",
    "scaler = StandardScaler()\n",
    "\n",
    "scaler.fit(Rfm_df_Log)\n",
    "\n",
    "RFM_Table_scaled = scaler.transform(Rfm_df_Log)"
   ]
  },
  {
   "cell_type": "code",
   "execution_count": 50,
   "id": "0a7028d9",
   "metadata": {},
   "outputs": [
    {
     "data": {
      "text/html": [
       "<div>\n",
       "<style scoped>\n",
       "    .dataframe tbody tr th:only-of-type {\n",
       "        vertical-align: middle;\n",
       "    }\n",
       "\n",
       "    .dataframe tbody tr th {\n",
       "        vertical-align: top;\n",
       "    }\n",
       "\n",
       "    .dataframe thead th {\n",
       "        text-align: right;\n",
       "    }\n",
       "</style>\n",
       "<table border=\"1\" class=\"dataframe\">\n",
       "  <thead>\n",
       "    <tr style=\"text-align: right;\">\n",
       "      <th></th>\n",
       "      <th>Recency</th>\n",
       "      <th>Frequency</th>\n",
       "      <th>Monetary</th>\n",
       "    </tr>\n",
       "  </thead>\n",
       "  <tbody>\n",
       "    <tr>\n",
       "      <th>0</th>\n",
       "      <td>-1.078249</td>\n",
       "      <td>2.811125</td>\n",
       "      <td>1.52274</td>\n",
       "    </tr>\n",
       "    <tr>\n",
       "      <th>1</th>\n",
       "      <td>-1.078249</td>\n",
       "      <td>2.367935</td>\n",
       "      <td>1.52274</td>\n",
       "    </tr>\n",
       "    <tr>\n",
       "      <th>2</th>\n",
       "      <td>-1.078249</td>\n",
       "      <td>1.681025</td>\n",
       "      <td>1.52274</td>\n",
       "    </tr>\n",
       "    <tr>\n",
       "      <th>3</th>\n",
       "      <td>-1.078249</td>\n",
       "      <td>1.705348</td>\n",
       "      <td>1.52274</td>\n",
       "    </tr>\n",
       "    <tr>\n",
       "      <th>4</th>\n",
       "      <td>-1.078249</td>\n",
       "      <td>1.942045</td>\n",
       "      <td>1.52274</td>\n",
       "    </tr>\n",
       "  </tbody>\n",
       "</table>\n",
       "</div>"
      ],
      "text/plain": [
       "    Recency  Frequency  Monetary\n",
       "0 -1.078249   2.811125   1.52274\n",
       "1 -1.078249   2.367935   1.52274\n",
       "2 -1.078249   1.681025   1.52274\n",
       "3 -1.078249   1.705348   1.52274\n",
       "4 -1.078249   1.942045   1.52274"
      ]
     },
     "execution_count": 50,
     "metadata": {},
     "output_type": "execute_result"
    }
   ],
   "source": [
    "RFM_Table_scaled = pd.DataFrame(RFM_Table_scaled, columns=Rfm_df_Log.columns)\n",
    "RFM_Table_scaled = RFM_Table_scaled[['Recency','Frequency','Monetary']]\n",
    "RFM_Table_scaled.head(5)"
   ]
  },
  {
   "cell_type": "markdown",
   "id": "1ca935fe",
   "metadata": {},
   "source": [
    "Finding the K value for K-means "
   ]
  },
  {
   "cell_type": "code",
   "execution_count": 93,
   "id": "60e913f7",
   "metadata": {},
   "outputs": [],
   "source": [
    "from scipy.spatial.distance import cdist\n",
    "distortions = [] \n",
    "inertias = [] \n",
    "mapping1 = {} \n",
    "mapping2 = {} \n",
    "K = range(1,10) \n",
    "  \n",
    "for k in K: \n",
    "    #Building and fitting the model \n",
    "    kmeanModel = KMeans(n_clusters=k).fit(RFM_Table_scaled) \n",
    "    kmeanModel.fit(RFM_Table_scaled)     \n",
    "      \n",
    "    distortions.append(sum(np.min(cdist(RFM_Table_scaled, kmeanModel.cluster_centers_, \n",
    "                      'euclidean'),axis=1)) / RFM_Table_scaled.shape[0]) \n",
    "    inertias.append(kmeanModel.inertia_) \n",
    "  \n",
    "    mapping1[k] = sum(np.min(cdist(RFM_Table_scaled, kmeanModel.cluster_centers_, \n",
    "                 'euclidean'),axis=1)) / RFM_Table_scaled.shape[0] \n",
    "    mapping2[k] = kmeanModel.inertia_ "
   ]
  },
  {
   "cell_type": "code",
   "execution_count": 94,
   "id": "505b300a",
   "metadata": {},
   "outputs": [
    {
     "data": {
      "image/png": "[encoded data removed]",
      "text/plain": [
       "<Figure size 432x288 with 1 Axes>"
      ]
     },
     "metadata": {},
     "output_type": "display_data"
    }
   ],
   "source": [
    "plt.plot(K, distortions, 'bx-') \n",
    "plt.xlabel('Values of K') \n",
    "plt.ylabel('Distortion') \n",
    "plt.title('The Elbow Method using Distortion') \n",
    "plt.show() "
   ]
  },
  {
   "cell_type": "code",
   "execution_count": 97,
   "id": "6f0cd99c",
   "metadata": {},
   "outputs": [
    {
     "data": {
      "image/png": "[encoded data removed]",
      "text/plain": [
       "<Figure size 432x288 with 1 Axes>"
      ]
     },
     "metadata": {},
     "output_type": "display_data"
    }
   ],
   "source": [
    "plt.plot(K, inertias, 'bx-') \n",
    "plt.xlabel('Values of K') \n",
    "plt.ylabel('Inertia') \n",
    "plt.title('The Elbow Method using Inertia') \n",
    "plt.show() "
   ]
  },
  {
   "cell_type": "markdown",
   "id": "cc195f76",
   "metadata": {},
   "source": [
    "# Fitting the model"
   ]
  },
  {
   "cell_type": "code",
   "execution_count": 95,
   "id": "caf090d3",
   "metadata": {},
   "outputs": [],
   "source": [
    "\n",
    "from sklearn.cluster import KMeans\n",
    "def kmeans(normalised_df_rfm, clusters_number, original_df_rfm):\n",
    "    \n",
    "    kmeans = KMeans(n_clusters = clusters_number, random_state = 1)\n",
    "    kmeans.fit(normalised_df_rfm)\n",
    "\n",
    "    # Extract cluster labels\n",
    "    cluster_labels = kmeans.labels_\n",
    "        \n",
    "    # Create a cluster label column in original dataset\n",
    "    df_new = original_df_rfm.assign(Cluster = cluster_labels)\n",
    "    \n",
    "    return df_new"
   ]
  },
  {
   "cell_type": "code",
   "execution_count": 96,
   "id": "1e5eae3a",
   "metadata": {},
   "outputs": [],
   "source": [
    "df_rfm_k4 = kmeans(RFM_Table_scaled, 4, Rfm_df)"
   ]
  },
  {
   "cell_type": "code",
   "execution_count": 81,
   "id": "feb5e61f",
   "metadata": {},
   "outputs": [
    {
     "data": {
      "text/html": [
       "<div>\n",
       "<style scoped>\n",
       "    .dataframe tbody tr th:only-of-type {\n",
       "        vertical-align: middle;\n",
       "    }\n",
       "\n",
       "    .dataframe tbody tr th {\n",
       "        vertical-align: top;\n",
       "    }\n",
       "\n",
       "    .dataframe thead th {\n",
       "        text-align: right;\n",
       "    }\n",
       "</style>\n",
       "<table border=\"1\" class=\"dataframe\">\n",
       "  <thead>\n",
       "    <tr style=\"text-align: right;\">\n",
       "      <th></th>\n",
       "      <th>CustomerID</th>\n",
       "      <th>Recency</th>\n",
       "      <th>Frequency</th>\n",
       "      <th>Monetary</th>\n",
       "      <th>Cluster</th>\n",
       "    </tr>\n",
       "  </thead>\n",
       "  <tbody>\n",
       "    <tr>\n",
       "      <th>0</th>\n",
       "      <td>22</td>\n",
       "      <td>1</td>\n",
       "      <td>124</td>\n",
       "      <td>11986.54</td>\n",
       "      <td>0</td>\n",
       "    </tr>\n",
       "    <tr>\n",
       "      <th>1</th>\n",
       "      <td>29</td>\n",
       "      <td>1</td>\n",
       "      <td>82</td>\n",
       "      <td>11025.96</td>\n",
       "      <td>0</td>\n",
       "    </tr>\n",
       "    <tr>\n",
       "      <th>2</th>\n",
       "      <td>83</td>\n",
       "      <td>1</td>\n",
       "      <td>43</td>\n",
       "      <td>7259.69</td>\n",
       "      <td>0</td>\n",
       "    </tr>\n",
       "    <tr>\n",
       "      <th>3</th>\n",
       "      <td>95</td>\n",
       "      <td>1</td>\n",
       "      <td>44</td>\n",
       "      <td>6992.27</td>\n",
       "      <td>0</td>\n",
       "    </tr>\n",
       "    <tr>\n",
       "      <th>4</th>\n",
       "      <td>124</td>\n",
       "      <td>1</td>\n",
       "      <td>55</td>\n",
       "      <td>6263.44</td>\n",
       "      <td>0</td>\n",
       "    </tr>\n",
       "    <tr>\n",
       "      <th>5</th>\n",
       "      <td>153</td>\n",
       "      <td>1</td>\n",
       "      <td>49</td>\n",
       "      <td>5841.24</td>\n",
       "      <td>0</td>\n",
       "    </tr>\n",
       "    <tr>\n",
       "      <th>6</th>\n",
       "      <td>187</td>\n",
       "      <td>1</td>\n",
       "      <td>43</td>\n",
       "      <td>5470.27</td>\n",
       "      <td>0</td>\n",
       "    </tr>\n",
       "    <tr>\n",
       "      <th>7</th>\n",
       "      <td>219</td>\n",
       "      <td>1</td>\n",
       "      <td>54</td>\n",
       "      <td>5200.53</td>\n",
       "      <td>0</td>\n",
       "    </tr>\n",
       "    <tr>\n",
       "      <th>8</th>\n",
       "      <td>258</td>\n",
       "      <td>1</td>\n",
       "      <td>19</td>\n",
       "      <td>4967.06</td>\n",
       "      <td>0</td>\n",
       "    </tr>\n",
       "    <tr>\n",
       "      <th>9</th>\n",
       "      <td>308</td>\n",
       "      <td>1</td>\n",
       "      <td>21</td>\n",
       "      <td>4726.38</td>\n",
       "      <td>0</td>\n",
       "    </tr>\n",
       "  </tbody>\n",
       "</table>\n",
       "</div>"
      ],
      "text/plain": [
       "   CustomerID  Recency  Frequency  Monetary  Cluster\n",
       "0          22        1        124  11986.54        0\n",
       "1          29        1         82  11025.96        0\n",
       "2          83        1         43   7259.69        0\n",
       "3          95        1         44   6992.27        0\n",
       "4         124        1         55   6263.44        0\n",
       "5         153        1         49   5841.24        0\n",
       "6         187        1         43   5470.27        0\n",
       "7         219        1         54   5200.53        0\n",
       "8         258        1         19   4967.06        0\n",
       "9         308        1         21   4726.38        0"
      ]
     },
     "execution_count": 81,
     "metadata": {},
     "output_type": "execute_result"
    }
   ],
   "source": [
    "df_rfm_k4['CustomerID'] = Rfm_df['CustomerID']\n",
    "df_rfm_k4.head(10)"
   ]
  },
  {
   "cell_type": "code",
   "execution_count": 88,
   "id": "badc70fd",
   "metadata": {},
   "outputs": [],
   "source": [
    "def rfm_values(df):\n",
    "\n",
    "    df_new = df.groupby(['Cluster']).agg({\n",
    "        'Recency': 'mean',\n",
    "        'Frequency': 'mean',\n",
    "        'Monetary': ['mean', 'count']\n",
    "    }).round(0)\n",
    "    \n",
    "    return df_new"
   ]
  },
  {
   "cell_type": "code",
   "execution_count": 89,
   "id": "f30a9351",
   "metadata": {},
   "outputs": [
    {
     "data": {
      "text/html": [
       "<div>\n",
       "<style scoped>\n",
       "    .dataframe tbody tr th:only-of-type {\n",
       "        vertical-align: middle;\n",
       "    }\n",
       "\n",
       "    .dataframe tbody tr th {\n",
       "        vertical-align: top;\n",
       "    }\n",
       "\n",
       "    .dataframe thead tr th {\n",
       "        text-align: left;\n",
       "    }\n",
       "\n",
       "    .dataframe thead tr:last-of-type th {\n",
       "        text-align: right;\n",
       "    }\n",
       "</style>\n",
       "<table border=\"1\" class=\"dataframe\">\n",
       "  <thead>\n",
       "    <tr>\n",
       "      <th></th>\n",
       "      <th>Recency</th>\n",
       "      <th>Frequency</th>\n",
       "      <th colspan=\"2\" halign=\"left\">Monetary</th>\n",
       "    </tr>\n",
       "    <tr>\n",
       "      <th></th>\n",
       "      <th>mean</th>\n",
       "      <th>mean</th>\n",
       "      <th>mean</th>\n",
       "      <th>count</th>\n",
       "    </tr>\n",
       "    <tr>\n",
       "      <th>Cluster</th>\n",
       "      <th></th>\n",
       "      <th></th>\n",
       "      <th></th>\n",
       "      <th></th>\n",
       "    </tr>\n",
       "  </thead>\n",
       "  <tbody>\n",
       "    <tr>\n",
       "      <th>0</th>\n",
       "      <td>30.0</td>\n",
       "      <td>24.0</td>\n",
       "      <td>3145.0</td>\n",
       "      <td>1594</td>\n",
       "    </tr>\n",
       "    <tr>\n",
       "      <th>1</th>\n",
       "      <td>194.0</td>\n",
       "      <td>3.0</td>\n",
       "      <td>313.0</td>\n",
       "      <td>1253</td>\n",
       "    </tr>\n",
       "    <tr>\n",
       "      <th>2</th>\n",
       "      <td>15.0</td>\n",
       "      <td>4.0</td>\n",
       "      <td>464.0</td>\n",
       "      <td>1194</td>\n",
       "    </tr>\n",
       "    <tr>\n",
       "      <th>3</th>\n",
       "      <td>134.0</td>\n",
       "      <td>18.0</td>\n",
       "      <td>2554.0</td>\n",
       "      <td>959</td>\n",
       "    </tr>\n",
       "  </tbody>\n",
       "</table>\n",
       "</div>"
      ],
      "text/plain": [
       "        Recency Frequency Monetary      \n",
       "           mean      mean     mean count\n",
       "Cluster                                 \n",
       "0          30.0      24.0   3145.0  1594\n",
       "1         194.0       3.0    313.0  1253\n",
       "2          15.0       4.0    464.0  1194\n",
       "3         134.0      18.0   2554.0   959"
      ]
     },
     "execution_count": 89,
     "metadata": {},
     "output_type": "execute_result"
    }
   ],
   "source": [
    "rfm_values(df_rfm_k4)"
   ]
  },
  {
   "cell_type": "markdown",
   "id": "1f4e2472",
   "metadata": {},
   "source": [
    "Champions are the customers who have made a purchase fairly recently and keeps on making puchases(high frequency) and generate high monetary value.\n",
    "Potential_Customers are the one who have made a purchase recently and comparatively less frequency and less monetary value.\n",
    "Customers who Need Attention are the ones who have not made a purchase recently but they have made frequent purshes of high monetary value in the past."
   ]
  },
  {
   "cell_type": "code",
   "execution_count": 90,
   "id": "a0bc46e1",
   "metadata": {},
   "outputs": [],
   "source": [
    "Champions = df_rfm_k4.loc[df_rfm_k4.Cluster == 0,'CustomerID']"
   ]
  },
  {
   "cell_type": "code",
   "execution_count": 91,
   "id": "70d2c9ed",
   "metadata": {},
   "outputs": [],
   "source": [
    "Potential_customer = df_rfm_k4.loc[df_rfm_k4.Cluster == 2, 'CustomerID']"
   ]
  },
  {
   "cell_type": "code",
   "execution_count": 92,
   "id": "50b9d8dd",
   "metadata": {},
   "outputs": [],
   "source": [
    "Need_attention = df_rfm_k4.loc[df_rfm_k4.Cluster == 3, 'CustomerID']"
   ]
  },
  {
   "cell_type": "code",
   "execution_count": null,
   "id": "2cd184bb",
   "metadata": {},
   "outputs": [
    {
     "ename": "",
     "evalue": "",
     "output_type": "error",
     "traceback": [
      "\u001b[1;31mRunning cells with 'Python 3.9.7 64-bit' requires ipykernel package.\n",
      "Run the following command to install 'ipykernel' into the Python environment. \n",
      "Command: 'c:/Users/ag_ma/AppData/Local/Programs/Python/Python39/python.exe -m pip install ipykernel -U --user --force-reinstall'"
     ]
    }
   ],
   "source": [
    "Conclusion "
   ]
  },
  {
   "cell_type": "code",
   "execution_count": null,
   "id": "1910f59c",
   "metadata": {},
   "outputs": [],
   "source": []
  }
 ],
 "metadata": {
  "kernelspec": {
   "display_name": "Python 3.9.7 64-bit",
   "language": "python",
   "name": "python3"
  },
  "language_info": {
   "codemirror_mode": {
    "name": "ipython",
    "version": 3
   },
   "file_extension": ".py",
   "mimetype": "text/x-python",
   "name": "python",
   "nbconvert_exporter": "python",
   "pygments_lexer": "ipython3",
   "version": "3.9.7"
  },
  "vscode": {
   "interpreter": {
    "hash": "a8ae7ecc0529b6cf725c0c2af4b8477c99b963514afd41755ccc5fdb68520a22"
   }
  }
 },
 "nbformat": 4,
 "nbformat_minor": 5
}
